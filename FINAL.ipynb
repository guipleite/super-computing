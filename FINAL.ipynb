{
 "cells": [
  {
   "cell_type": "markdown",
   "metadata": {},
   "source": [
    "# Projeto 1 Super Comp\n",
    "O projeto consiste em uma implementação de um algoritmo de atribuição de alunos a projetos no Projeto Final de Engenharia, onde:\n",
    "\n",
    " - Cada aluno ordena algumas opções de projetos de acordo com sua preferência do menos ao mais preferível, de modo que seu projeto favorito terá o maior índice.\n",
    " - A satisfação para uma combinação de alunos e projetos é calculada a partir da soma dos indices respectivos ao quadrado para os projetos em que cada aluno foi alocado.\n",
    " - Cada projeto receberá exatamente n alunos.\n",
    "\n",
    "O objetivo é encontrar a solução que deixe a satisfação global maior, uma vez que os alunos ficam mais felizes quando são colocados em projetos que preferem mais. Como não é possível dizer se uma solução encontrada é , necessáriamente a melhor possível, é preciso encontrar todas as soluções existentes de maneira iterativa.\n",
    "\n",
    "Para uniformizar os programas foi definida uma estrutura para as entradas\n",
    "\n",
    "- __n_alunos:__  Número de alunos que serão alocados.\n",
    "- __n_proj:__    Número de projetos que estão disponíveis.\n",
    "- __n_escolhas:__    Em quantos projetos o aluno pode se candidatar.\n",
    "\n",
    " \n",
    "## Parte 1 algoritmos\n",
    "A intensão da primeira parte é comparar a feita implementação em Python com traduzida para C++. Os testes foram feitos em um Dell XPS 15 9570 com Ubuntu 19.     \n",
    "\n",
    "__As funções são:__\n",
    "\n",
    "- __escolhe_alunos:__  Entra em uma recurcao ate achar todas as possibilidades até achar a melhor.\n",
    "- __main:__     Recebe entradas, separa os dados e cria vetores com eles e os manda para o __escolhe_alunos__\n",
    "\n",
    "O código fonte é o arquivo __P1/solucao-ingenua.cpp__, que foi traduzido do __P1/backtrack.py__. O executável estão localizadas dentro da pasta P1/build.\n",
    "\n",
    "As entradas utilizadas para fazer a comparação têm as seguintes características:\n",
    "\n",
    "| n_alunos | n_proj | n_escolhas |\n",
    "|:--------:|:------:|:----------:|\n",
    "|     6    |    2   |      2     |\n",
    "|     9    |    3   |      3     |\n",
    "|    12    |    4   |      3     |\n",
    "\n",
    "O tempo de execução, em microsegundos, das versões em ambas as linguagens é contado para cada uma das entradas, usando a biblioteca time no caso do Python e a chronos no C++.\n"
   ]
  },
  {
   "cell_type": "markdown",
   "metadata": {},
   "source": [
    "<span style=\"color:red\">**Caso queira recompilar os programas e rodar este notebook, comentar e/ou descomentar os trechos de código indicados dentro de cada arquivo .cpp e .cu rodar a célua abaixo:**</span>"
   ]
  },
  {
   "cell_type": "code",
   "execution_count": 2,
   "metadata": {},
   "outputs": [],
   "source": [
    "import os\n",
    "import matplotlib.pyplot as plt\n",
    "import pandas as pd\n",
    "\n",
    "try:\n",
    "    os.system('mkdir build')\n",
    "    os.system('mkdir output')\n",
    "except:\n",
    "    os.system('')\n",
    "\n",
    "os.system('cmake -B ./build')\n",
    "os.system('make -C ./build')\n"
   ]
  },
  {
   "cell_type": "markdown",
   "metadata": {},
   "source": [
    "### Compilando e Executando os programas"
   ]
  },
  {
   "cell_type": "code",
   "execution_count": 10,
   "metadata": {},
   "outputs": [
    {
     "data": {
      "text/plain": [
       "0"
      ]
     },
     "execution_count": 10,
     "metadata": {},
     "output_type": "execute_result"
    }
   ],
   "source": [
    "os.system('python3 backtrack.py < ./entrada  > ./output/saida0p.txt')\n",
    "os.system('python3 backtrack.py < ./entrada1 > ./output/saida1p.txt')\n",
    "os.system('python3 backtrack.py < ./entrada2 > ./output/saida2p.txt')\n",
    "\n",
    "os.system('./build/busca_exaustiva_seq < ./entrada  > ./output/saida0c.txt')\n",
    "os.system('./build/busca_exaustiva_seq < ./entrada1 > ./output/saida1c.txt')\n",
    "os.system('./build/busca_exaustiva_seq < ./entrada2 > ./output/saida2c.txt')"
   ]
  },
  {
   "cell_type": "markdown",
   "metadata": {},
   "source": [
    "### Python e C++"
   ]
  },
  {
   "cell_type": "code",
   "execution_count": 11,
   "metadata": {},
   "outputs": [
    {
     "data": {
      "text/html": [
       "<div>\n",
       "<style scoped>\n",
       "    .dataframe tbody tr th:only-of-type {\n",
       "        vertical-align: middle;\n",
       "    }\n",
       "\n",
       "    .dataframe tbody tr th {\n",
       "        vertical-align: top;\n",
       "    }\n",
       "\n",
       "    .dataframe thead th {\n",
       "        text-align: right;\n",
       "    }\n",
       "</style>\n",
       "<table border=\"1\" class=\"dataframe\">\n",
       "  <thead>\n",
       "    <tr style=\"text-align: right;\">\n",
       "      <th></th>\n",
       "      <th>C++</th>\n",
       "      <th>Python</th>\n",
       "      <th>entrada</th>\n",
       "    </tr>\n",
       "  </thead>\n",
       "  <tbody>\n",
       "    <tr>\n",
       "      <th>0</th>\n",
       "      <td>25</td>\n",
       "      <td>543</td>\n",
       "      <td>0</td>\n",
       "    </tr>\n",
       "    <tr>\n",
       "      <th>1</th>\n",
       "      <td>155</td>\n",
       "      <td>40981</td>\n",
       "      <td>1</td>\n",
       "    </tr>\n",
       "    <tr>\n",
       "      <th>2</th>\n",
       "      <td>28077</td>\n",
       "      <td>897490</td>\n",
       "      <td>2</td>\n",
       "    </tr>\n",
       "  </tbody>\n",
       "</table>\n",
       "</div>"
      ],
      "text/plain": [
       "     C++  Python entrada\n",
       "0     25     543       0\n",
       "1    155   40981       1\n",
       "2  28077  897490       2"
      ]
     },
     "execution_count": 11,
     "metadata": {},
     "output_type": "execute_result"
    }
   ],
   "source": [
    "with open('./output/saida1c.txt', 'r') as f:\n",
    "    lines = f.read().splitlines()\n",
    "    s0c = lines[-1]\n",
    "with open('./output/saida0c.txt', 'r') as f:\n",
    "    lines = f.read().splitlines()\n",
    "    s1c = lines[-1]\n",
    "with open('./output/saida2c.txt', 'r') as f:\n",
    "    lines = f.read().splitlines()\n",
    "    s2c = lines[-1]\n",
    "\n",
    "with open('./output/saida1p.txt', 'r') as f:\n",
    "    lines = f.read().splitlines()\n",
    "    s0p = lines[-1]\n",
    "with open('./output/saida0p.txt', 'r') as f:\n",
    "    lines = f.read().splitlines()\n",
    "    s1p = lines[-1]\n",
    "with open('./output/saida2p.txt', 'r') as f:\n",
    "    lines = f.read().splitlines()\n",
    "    s2p = lines[-1]\n",
    "\n",
    "lc = [s0c,s1c,s2c]\n",
    "lp = [s0p,s1p,s2p]\n",
    "entrada = [\"0\",\"1\",\"2\"]\n",
    "\n",
    "df = pd.DataFrame(list(zip(lc, lp,entrada)), \n",
    "               columns =['C++', 'Python', 'entrada'])\n",
    "df[\"Python\"] = pd.to_numeric(df[\"Python\"])\n",
    "df[\"C++\"] = pd.to_numeric(df[\"C++\"])\n",
    "df"
   ]
  },
  {
   "cell_type": "code",
   "execution_count": 12,
   "metadata": {
    "scrolled": false
   },
   "outputs": [
    {
     "data": {
      "image/png": "[encoded data removed]",
      "text/plain": [
       "<Figure size 432x288 with 1 Axes>"
      ]
     },
     "metadata": {
      "needs_background": "light"
     },
     "output_type": "display_data"
    }
   ],
   "source": [
    "ax = plt.gca()\n",
    "df.plot(kind='line',x='entrada',y='Python',ax=ax)\n",
    "df.plot(kind='line',x='entrada',y='C++', color='green', ax=ax)\n",
    "plt.title(u\"Tempo (µs) Python e C++ vs Tamanho da entrada\")\n",
    "plt.show()"
   ]
  },
  {
   "cell_type": "markdown",
   "metadata": {},
   "source": [
    "### Conclusões Python e C++\n",
    "Como é possível perceber, o algoritmo faz os cálculos muito mais rápido na implementação em C++, isso se dá pois a linguagem Python é interpretada e não compilada, dessa forma, como o código interpretado é sempre mais lento que o código de máquina, pois são necessárias muito mais instruções para implementar uma instrução interpretada do que para implementar uma instrução real de máquina e não tem um impacto muito grande de otimizações, isso gera uma repercussão muito grande na performance do código, contudo, Python é uma ótima linguagem para desenvolvimento, uma vez que o código original é muito mais legível e tem cerca de metade do número de linhas de sua versão traduzida para C++. A difereça é mais aparente quando o __n_escolhas__ aumenta."
   ]
  },
  {
   "cell_type": "markdown",
   "metadata": {},
   "source": [
    "## Parte 2 Paralelismo\n",
    "\n",
    "A segunda parte consiste em usar técnicas para deixar o código mais rápido. A primeira parte foi paralelizar a busca exaustiva (__solucao-ingenua.cpp__), a segunda foi fazer a busca local e branch and bound e, em seguida, paralelizá-las .\n",
    "\n",
    "- __Busca Exaustiva Paralela:__ Paraleliza as recursões colocando cada uma em uma task diferente\n",
    "- __Busca Local Sequencial:__   Encontra a melhor solução de forma iterativa. A partir de uma solução inicial aleatória. Em seguida é verificado se a troca de projetos com outro aluno aumentará a satisfação ou não, caso positivo, esse processo é realizado novamente. Isso e feito cerca de 80000 vezes para garantir que o melhor resultado encontrado é o melhore resultado global. \n",
    "- __Busca Local Paralela:__     Pareleliza o loop de forma que cada iterção roda um uma thread, adicionando os resultados a um vetor para guardar a melhor possibilidade encontrada.\n",
    "- __Branch and Bound Sequencial:__ É semelhante ao busca exaustiva, porém, durante o processamento, se soubermos que as trocas restantes possíveis não resultarão em uma satifação maior que a melhor global, o processamento dessa combinação será parado.\n",
    "- __Branch and Bound Paralelo:__ Igual ao Branch and Bound porém usando a mesma técnica de paralelização da busca exaustiva.\n",
    "\n",
    "Para a busca exaustiva sequencial código fonte é o arquivo __P1/solucao-ingenua.cpp__ gerando o executável __P1/build/busca_exaustiva_seq__ e sua versão paralelizada __P1/busca_exaustiva.cpp__ com seu respectivo executável __P1/build/busca_exaustiva_par__, para o branch and bound o código fonte é __P1/branch_bound.cpp__ e o executável é  __P1/build/branch_bound_seq__.\n",
    "\n",
    "Para a busca local sequencial código fonte é o arquivo __P1/busca_local.cpp__ gerando o executável __P1/build/busca_local_seq__ e sua versão paralelizada __P1/busca_local_paralel.cpp__ com seu respectivo executável __P1/build/busca_local_par__,para o branch and bound o código fonte é __P1/branch_bound_par.cpp__ e o executável é  __P1/build/branch_bound_par__.\n",
    "\n",
    "Os executáveis foram compilados com a flag __-O3__ de otimização e os que tiverem paralisação foram compilados com a biblioteca OpenMP.\n",
    "\n",
    "Os testes foram feitos em um Dell XPS 15 9570 que possui 12 threads rondando Ubuntu 19.     \n",
    "\n",
    "Foram usados arquivos de entrada com os seguintes parâmetros:\n",
    "\n",
    "| n_alunos | n_proj | n_escolhas |\n",
    "|:--------:|:------:|:----------:|\n",
    "|     6    |    2   |      2     |\n",
    "|     9    |    3   |      3     |\n",
    "|    12    |    4   |      3     |\n",
    "|    15    |    5   |      3     |\n",
    "\n",
    "O tempo de execução, em microsegundos, é contado para cada uma das entradas, usando a biblioteca chronos."
   ]
  },
  {
   "cell_type": "markdown",
   "metadata": {},
   "source": [
    "### Compilando e Executando os programas"
   ]
  },
  {
   "cell_type": "code",
   "execution_count": 23,
   "metadata": {},
   "outputs": [
    {
     "data": {
      "text/plain": [
       "0"
      ]
     },
     "execution_count": 23,
     "metadata": {},
     "output_type": "execute_result"
    }
   ],
   "source": [
    "try:\n",
    "    os.system('mkdir build')\n",
    "    os.system('mkdir output')\n",
    "except:\n",
    "    os.system('')\n",
    "\n",
    "os.system('cmake -B ./build')\n",
    "os.system('make -C ./build')\n",
    "\n",
    "os.system('./build/busca_exaustiva_seq < ./entrada  > ./output/saida0c.txt')\n",
    "os.system('./build/busca_exaustiva_seq < ./entrada1 > ./output/saida1c.txt')\n",
    "os.system('./build/busca_exaustiva_seq < ./entrada2 > ./output/saida2c.txt')\n",
    "os.system('./build/busca_exaustiva_seq < ./entrada3 > ./output/saida3c.txt')\n",
    "\n",
    "os.system('./build/busca_exaustiva_par < ./entrada  > ./output/saida0cp.txt')\n",
    "os.system('./build/busca_exaustiva_par < ./entrada1 > ./output/saida1cp.txt')\n",
    "os.system('./build/busca_exaustiva_par < ./entrada2 > ./output/saida2cp.txt')\n",
    "os.system('./build/busca_exaustiva_par < ./entrada3 > ./output/saida3cp.txt')\n",
    "\n",
    "os.system('./build/busca_local_seq < ./entrada  > ./output/saida0l.txt')\n",
    "os.system('./build/busca_local_seq < ./entrada1 > ./output/saida1l.txt')\n",
    "os.system('./build/busca_local_seq < ./entrada2 > ./output/saida2l.txt')\n",
    "os.system('./build/busca_local_seq < ./entrada3 > ./output/saida3l.txt')\n",
    "\n",
    "os.system('./build/busca_local_par < ./entrada  > ./output/saida0lp.txt')\n",
    "os.system('./build/busca_local_par < ./entrada1 > ./output/saida1lp.txt')\n",
    "os.system('./build/busca_local_par < ./entrada2 > ./output/saida2lp.txt')\n",
    "os.system('./build/busca_local_par < ./entrada3 > ./output/saida3lp.txt')\n",
    "\n",
    "os.system('./build/branch_bound_seq < ./entrada  > ./output/saida0lb.txt')\n",
    "os.system('./build/branch_bound_seq < ./entrada1 > ./output/saida1lb.txt')\n",
    "os.system('./build/branch_bound_seq < ./entrada2 > ./output/saida2lb.txt')\n",
    "os.system('./build/branch_bound_seq < ./entrada3 > ./output/saida3lb.txt')\n",
    "\n",
    "os.system('./build/branch_bound_par < ./entrada  > ./output/saida0lpb.txt')\n",
    "os.system('./build/branch_bound_par < ./entrada1 > ./output/saida1lpb.txt')\n",
    "os.system('./build/branch_bound_par < ./entrada2 > ./output/saida2lpb.txt')\n",
    "os.system('./build/branch_bound_par < ./entrada3 > ./output/saida3lpb.txt')"
   ]
  },
  {
   "cell_type": "markdown",
   "metadata": {},
   "source": [
    "### Busca Exaustiva Sequencial e Paralela"
   ]
  },
  {
   "cell_type": "code",
   "execution_count": 18,
   "metadata": {},
   "outputs": [
    {
     "data": {
      "text/html": [
       "<div>\n",
       "<style scoped>\n",
       "    .dataframe tbody tr th:only-of-type {\n",
       "        vertical-align: middle;\n",
       "    }\n",
       "\n",
       "    .dataframe tbody tr th {\n",
       "        vertical-align: top;\n",
       "    }\n",
       "\n",
       "    .dataframe thead th {\n",
       "        text-align: right;\n",
       "    }\n",
       "</style>\n",
       "<table border=\"1\" class=\"dataframe\">\n",
       "  <thead>\n",
       "    <tr style=\"text-align: right;\">\n",
       "      <th></th>\n",
       "      <th>Sequencial</th>\n",
       "      <th>Paralelo</th>\n",
       "      <th>entrada</th>\n",
       "    </tr>\n",
       "  </thead>\n",
       "  <tbody>\n",
       "    <tr>\n",
       "      <th>0</th>\n",
       "      <td>26</td>\n",
       "      <td>2708</td>\n",
       "      <td>0</td>\n",
       "    </tr>\n",
       "    <tr>\n",
       "      <th>1</th>\n",
       "      <td>162</td>\n",
       "      <td>2671</td>\n",
       "      <td>1</td>\n",
       "    </tr>\n",
       "    <tr>\n",
       "      <th>2</th>\n",
       "      <td>28008</td>\n",
       "      <td>11204</td>\n",
       "      <td>2</td>\n",
       "    </tr>\n",
       "    <tr>\n",
       "      <th>3</th>\n",
       "      <td>12454394</td>\n",
       "      <td>3743740</td>\n",
       "      <td>3</td>\n",
       "    </tr>\n",
       "  </tbody>\n",
       "</table>\n",
       "</div>"
      ],
      "text/plain": [
       "   Sequencial  Paralelo entrada\n",
       "0          26      2708       0\n",
       "1         162      2671       1\n",
       "2       28008     11204       2\n",
       "3    12454394   3743740       3"
      ]
     },
     "execution_count": 18,
     "metadata": {},
     "output_type": "execute_result"
    }
   ],
   "source": [
    "with open('./output/saida1c.txt', 'r') as f:\n",
    "    lines = f.read().splitlines()\n",
    "    s0c = lines[-1]\n",
    "with open('./output/saida0c.txt', 'r') as f:\n",
    "    lines = f.read().splitlines()\n",
    "    s1c = lines[-1]\n",
    "with open('./output/saida2c.txt', 'r') as f:\n",
    "    lines = f.read().splitlines()\n",
    "    s2c = lines[-1]\n",
    "with open('./output/saida3c.txt', 'r') as f:\n",
    "    lines = f.read().splitlines()\n",
    "    s3c = lines[-1]\n",
    "\n",
    "with open('./output/saida1cp.txt', 'r') as f:\n",
    "    lines = f.read().splitlines()\n",
    "    s0p = lines[-1]\n",
    "with open('./output/saida0cp.txt', 'r') as f:\n",
    "    lines = f.read().splitlines()\n",
    "    s1p = lines[-1]\n",
    "with open('./output/saida2cp.txt', 'r') as f:\n",
    "    lines = f.read().splitlines()\n",
    "    s2p = lines[-1]\n",
    "with open('./output/saida3cp.txt', 'r') as f:\n",
    "    lines = f.read().splitlines()\n",
    "    s3p = lines[-1]\n",
    "    \n",
    "lce = [s0c,s1c,s2c,s3c]\n",
    "lpe = [s0p,s1p,s2p,s3p]\n",
    "entrada = [\"0\",\"1\",\"2\",\"3\"]\n",
    "\n",
    "df = pd.DataFrame(list(zip(lce, lpe,entrada)), \n",
    "               columns =['Sequencial', 'Paralelo', 'entrada'])\n",
    "df[\"Paralelo\"] = pd.to_numeric(df[\"Paralelo\"])\n",
    "df[\"Sequencial\"] = pd.to_numeric(df[\"Sequencial\"])\n",
    "df"
   ]
  },
  {
   "cell_type": "code",
   "execution_count": 19,
   "metadata": {},
   "outputs": [
    {
     "data": {
      "image/png": "[encoded data removed]",
      "text/plain": [
       "<Figure size 432x288 with 1 Axes>"
      ]
     },
     "metadata": {
      "needs_background": "light"
     },
     "output_type": "display_data"
    }
   ],
   "source": [
    "ax = plt.gca()\n",
    "df.plot(kind='line',x='entrada',y='Paralelo',ax=ax)\n",
    "df.plot(kind='line',x='entrada',y='Sequencial', color='green', ax=ax)\n",
    "plt.title(u\"Tempo (µs) Busca Exaustiva Sequencial e Paralela vs Tamanho da entrada\")\n",
    "plt.show()"
   ]
  },
  {
   "cell_type": "markdown",
   "metadata": {},
   "source": [
    "### Conclusões: Busca Exaustiva \n",
    "O gráfico e tabela acima deixam muito aparente o quanto a paralisação deixa o programa mais rápido com entradas maiores, onde a versão paralelizada teve um tempo de execução de aproximadamente 10% da versão original. Isso ocorre pois cada task criada pode rodar de forma paralela âs outras, e quanto mais threads o processador tiver, mais tasks podem ser executadas em paralelo. Assim apesar de o tempo de ambas as versões crescer de forma exponencial, o tempo da sequencial cresce muito mais conforme o tamanho da entrada. Contudo, como o custo de criação de tasks é muito grande, se forem criadas muitas delas o desempenho do programa pode sofrer consideravelmente, assim o tempo, para entradas muito pequenas, é maior no paralelo do que no sequencial"
   ]
  },
  {
   "cell_type": "markdown",
   "metadata": {},
   "source": [
    "### Busca Local Sequencial e Paralela"
   ]
  },
  {
   "cell_type": "code",
   "execution_count": 20,
   "metadata": {},
   "outputs": [
    {
     "data": {
      "text/html": [
       "<div>\n",
       "<style scoped>\n",
       "    .dataframe tbody tr th:only-of-type {\n",
       "        vertical-align: middle;\n",
       "    }\n",
       "\n",
       "    .dataframe tbody tr th {\n",
       "        vertical-align: top;\n",
       "    }\n",
       "\n",
       "    .dataframe thead th {\n",
       "        text-align: right;\n",
       "    }\n",
       "</style>\n",
       "<table border=\"1\" class=\"dataframe\">\n",
       "  <thead>\n",
       "    <tr style=\"text-align: right;\">\n",
       "      <th></th>\n",
       "      <th>Sequencial</th>\n",
       "      <th>Paralelo</th>\n",
       "      <th>entrada</th>\n",
       "    </tr>\n",
       "  </thead>\n",
       "  <tbody>\n",
       "    <tr>\n",
       "      <th>0</th>\n",
       "      <td>69701</td>\n",
       "      <td>44189</td>\n",
       "      <td>0</td>\n",
       "    </tr>\n",
       "    <tr>\n",
       "      <th>1</th>\n",
       "      <td>188168</td>\n",
       "      <td>64528</td>\n",
       "      <td>1</td>\n",
       "    </tr>\n",
       "    <tr>\n",
       "      <th>2</th>\n",
       "      <td>446154</td>\n",
       "      <td>121977</td>\n",
       "      <td>2</td>\n",
       "    </tr>\n",
       "    <tr>\n",
       "      <th>3</th>\n",
       "      <td>832685</td>\n",
       "      <td>208495</td>\n",
       "      <td>3</td>\n",
       "    </tr>\n",
       "  </tbody>\n",
       "</table>\n",
       "</div>"
      ],
      "text/plain": [
       "   Sequencial  Paralelo entrada\n",
       "0       69701     44189       0\n",
       "1      188168     64528       1\n",
       "2      446154    121977       2\n",
       "3      832685    208495       3"
      ]
     },
     "execution_count": 20,
     "metadata": {},
     "output_type": "execute_result"
    }
   ],
   "source": [
    "with open('./output/saida1l.txt', 'r') as f:\n",
    "    lines = f.read().splitlines()\n",
    "    s0c = lines[-1]\n",
    "with open('./output/saida0l.txt', 'r') as f:\n",
    "    lines = f.read().splitlines()\n",
    "    s1c = lines[-1]\n",
    "with open('./output/saida2l.txt', 'r') as f:\n",
    "    lines = f.read().splitlines()\n",
    "    s2c = lines[-1]\n",
    "with open('./output/saida3l.txt', 'r') as f:\n",
    "    lines = f.read().splitlines()\n",
    "    s3c = lines[-1]\n",
    "\n",
    "with open('./output/saida1lp.txt', 'r') as f:\n",
    "    lines = f.read().splitlines()\n",
    "    s0p = lines[-1]\n",
    "with open('./output/saida0lp.txt', 'r') as f:\n",
    "    lines = f.read().splitlines()\n",
    "    s1p = lines[-1]\n",
    "with open('./output/saida2lp.txt', 'r') as f:\n",
    "    lines = f.read().splitlines()\n",
    "    s2p = lines[-1]\n",
    "with open('./output/saida3lp.txt', 'r') as f:\n",
    "    lines = f.read().splitlines()\n",
    "    s3p = lines[-1]\n",
    "    \n",
    "lcl = [s0c,s1c,s2c,s3c]\n",
    "lpl = [s0p,s1p,s2p,s3p]\n",
    "entrada = [\"0\",\"1\",\"2\",\"3\"]\n",
    "\n",
    "df = pd.DataFrame(list(zip(lcl, lpl,entrada)), \n",
    "               columns =['Sequencial', 'Paralelo', 'entrada'])\n",
    "df[\"Paralelo\"] = pd.to_numeric(df[\"Paralelo\"])\n",
    "df[\"Sequencial\"] = pd.to_numeric(df[\"Sequencial\"])\n",
    "df"
   ]
  },
  {
   "cell_type": "code",
   "execution_count": 21,
   "metadata": {},
   "outputs": [
    {
     "data": {
      "image/png": "[encoded data removed]",
      "text/plain": [
       "<Figure size 432x288 with 1 Axes>"
      ]
     },
     "metadata": {
      "needs_background": "light"
     },
     "output_type": "display_data"
    }
   ],
   "source": [
    "ax = plt.gca()\n",
    "df.plot(kind='line',x='entrada',y='Paralelo',ax=ax)\n",
    "df.plot(kind='line',x='entrada',y='Sequencial', color='green', ax=ax)\n",
    "plt.title(u\"Tempo (µs) Busca Local Sequencial e Paralela vs Tamanho da entrada\")\n",
    "plt.show()"
   ]
  },
  {
   "cell_type": "markdown",
   "metadata": {},
   "source": [
    "### Conclusões Busca Local \n",
    "Como o gráfico acima mostra bem, existe uma diferença notável nos tempos de execução e aponta que essa diferença tende a aumentar conforme o tamanho da entrada. Ela ocorre pois como são necessárias várias iterações para saber qual é a real melhor satisfação, uma vez que o vetor inicial é aleatório, se cada iteração for feita em uma thread, o tempo de execução será muito menor."
   ]
  },
  {
   "cell_type": "markdown",
   "metadata": {},
   "source": [
    "### Branch and Bound Sequencial e Paralelo\n"
   ]
  },
  {
   "cell_type": "code",
   "execution_count": 26,
   "metadata": {},
   "outputs": [
    {
     "data": {
      "text/html": [
       "<div>\n",
       "<style scoped>\n",
       "    .dataframe tbody tr th:only-of-type {\n",
       "        vertical-align: middle;\n",
       "    }\n",
       "\n",
       "    .dataframe tbody tr th {\n",
       "        vertical-align: top;\n",
       "    }\n",
       "\n",
       "    .dataframe thead th {\n",
       "        text-align: right;\n",
       "    }\n",
       "</style>\n",
       "<table border=\"1\" class=\"dataframe\">\n",
       "  <thead>\n",
       "    <tr style=\"text-align: right;\">\n",
       "      <th></th>\n",
       "      <th>Sequencial</th>\n",
       "      <th>Paralelo</th>\n",
       "      <th>entrada</th>\n",
       "    </tr>\n",
       "  </thead>\n",
       "  <tbody>\n",
       "    <tr>\n",
       "      <th>0</th>\n",
       "      <td>26</td>\n",
       "      <td>784</td>\n",
       "      <td>0</td>\n",
       "    </tr>\n",
       "    <tr>\n",
       "      <th>1</th>\n",
       "      <td>162</td>\n",
       "      <td>9729</td>\n",
       "      <td>1</td>\n",
       "    </tr>\n",
       "    <tr>\n",
       "      <th>2</th>\n",
       "      <td>28008</td>\n",
       "      <td>5262</td>\n",
       "      <td>2</td>\n",
       "    </tr>\n",
       "    <tr>\n",
       "      <th>3</th>\n",
       "      <td>12454394</td>\n",
       "      <td>871406</td>\n",
       "      <td>3</td>\n",
       "    </tr>\n",
       "  </tbody>\n",
       "</table>\n",
       "</div>"
      ],
      "text/plain": [
       "   Sequencial  Paralelo entrada\n",
       "0          26       784       0\n",
       "1         162      9729       1\n",
       "2       28008      5262       2\n",
       "3    12454394    871406       3"
      ]
     },
     "execution_count": 26,
     "metadata": {},
     "output_type": "execute_result"
    }
   ],
   "source": [
    "with open('./output/saida1lb.txt', 'r') as f:\n",
    "    lines = f.read().splitlines()\n",
    "    s0c = lines[-1]\n",
    "with open('./output/saida0lb.txt', 'r') as f:\n",
    "    lines = f.read().splitlines()\n",
    "    s1c = lines[-1]\n",
    "with open('./output/saida2lb.txt', 'r') as f:\n",
    "    lines = f.read().splitlines()\n",
    "    s2c = lines[-1]\n",
    "with open('./output/saida3lb.txt', 'r') as f:\n",
    "    lines = f.read().splitlines()\n",
    "    s3c = lines[-1]\n",
    "\n",
    "with open('./output/saida1lpb.txt', 'r') as f:\n",
    "    lines = f.read().splitlines()\n",
    "    s0p = lines[-1]\n",
    "with open('./output/saida0lpb.txt', 'r') as f:\n",
    "    lines = f.read().splitlines()\n",
    "    s1p = lines[-1]\n",
    "with open('./output/saida2lpb.txt', 'r') as f:\n",
    "    lines = f.read().splitlines()\n",
    "    s2p = lines[-1]\n",
    "with open('./output/saida3lpb.txt', 'r') as f:\n",
    "    lines = f.read().splitlines()\n",
    "    s3p = lines[-1]\n",
    "    \n",
    "lcb = [s0c,s1c,s2c,s3c]\n",
    "lpb = [s0p,s1p,s2p,s3p]\n",
    "entrada = [\"0\",\"1\",\"2\",\"3\"]\n",
    "\n",
    "df = pd.DataFrame(list(zip(lce, lpb,entrada)), \n",
    "               columns =['Sequencial', 'Paralelo', 'entrada'])\n",
    "df[\"Paralelo\"] = pd.to_numeric(df[\"Paralelo\"])\n",
    "df[\"Sequencial\"] = pd.to_numeric(df[\"Sequencial\"])\n",
    "df"
   ]
  },
  {
   "cell_type": "code",
   "execution_count": 27,
   "metadata": {},
   "outputs": [
    {
     "data": {
      "image/png": "[encoded data removed]",
      "text/plain": [
       "<Figure size 432x288 with 1 Axes>"
      ]
     },
     "metadata": {
      "needs_background": "light"
     },
     "output_type": "display_data"
    }
   ],
   "source": [
    "ax = plt.gca()\n",
    "df.plot(kind='line',x='entrada',y='Paralelo',ax=ax)\n",
    "df.plot(kind='line',x='entrada',y='Sequencial', color='green', ax=ax)\n",
    "plt.title(u\"Tempo (µs) Branch and Bound Sequencial e Paralelo vs Tamanho da entrada\")\n",
    "plt.show()"
   ]
  },
  {
   "cell_type": "markdown",
   "metadata": {},
   "source": [
    "### Conclusões: Branch and Bound Sequencial e Paralelo\n",
    "Com era de se esperar, a Branch and Bound tem um desempnho muito similar com a busca exaustiva, contudo, como o programa verifica se existe a possibilidade da satisfação de um certo vetor ficar melhor que a melhor global, o número de recursões é menor uma vez que caso não exista a possíbilidade de melhora, o programa não gasta tempo calculando uma coisa que não vai ser utilizada."
   ]
  },
  {
   "cell_type": "code",
   "execution_count": 35,
   "metadata": {},
   "outputs": [
    {
     "data": {
      "image/png": "[encoded data removed]",
      "text/plain": [
       "<Figure size 432x288 with 1 Axes>"
      ]
     },
     "metadata": {
      "needs_background": "light"
     },
     "output_type": "display_data"
    }
   ],
   "source": [
    "dfs = pd.DataFrame(list(zip(lce,lcl, lcb,entrada)), \n",
    "               columns =['Exaustiva','Local', 'Branch', 'entrada'])\n",
    "\n",
    "dfs[\"Exaustiva\"] = pd.to_numeric(dfs[\"Exaustiva\"])\n",
    "dfs[\"Local\"] = pd.to_numeric(dfs[\"Local\"])\n",
    "dfs[\"Branch\"] = pd.to_numeric(dfs[\"Branch\"])\n",
    "\n",
    "dfp = pd.DataFrame(list(zip(lpe,lpl, lpb,entrada)), \n",
    "               columns =['Exaustiva','Local', 'Branch', 'entrada'])\n",
    "dfp[\"Exaustiva\"] = pd.to_numeric(dfs[\"Exaustiva\"])\n",
    "dfp[\"Local\"] = pd.to_numeric(dfs[\"Local\"])\n",
    "dfp[\"Branch\"] = pd.to_numeric(dfs[\"Branch\"])\n",
    "\n",
    "ax = plt.gca()\n",
    "dfs.plot(kind='line',x='entrada',y='Exaustiva',ax=ax)\n",
    "dfs.plot(kind='line',x='entrada',y='Local', color='green', ax=ax)\n",
    "dfs.plot(kind='line',x='entrada',y='Branch', color='red', ax=ax)\n",
    "\n",
    "plt.title(u\"Tempo (µs) Exaustiva,Local e Branch and Bound Sequencial vs Tamanho da entrada\")\n",
    "plt.show()"
   ]
  },
  {
   "cell_type": "code",
   "execution_count": 37,
   "metadata": {},
   "outputs": [
    {
     "data": {
      "image/png": "[encoded data removed]",
      "text/plain": [
       "<Figure size 432x288 with 1 Axes>"
      ]
     },
     "metadata": {
      "needs_background": "light"
     },
     "output_type": "display_data"
    }
   ],
   "source": [
    "ax = plt.gca()\n",
    "dfp.plot(kind='line',x='entrada',y='Exaustiva',ax=ax)\n",
    "dfp.plot(kind='line',x='entrada',y='Local', color='green', ax=ax)\n",
    "dfp.plot(kind='line',x='entrada',y='Branch', color='red', ax=ax)\n",
    "\n",
    "plt.title(u\"Tempo (µs) Exaustiva,Local e Branch and Bound Paralelo vs Tamanho da entrada\")\n",
    "plt.show()"
   ]
  },
  {
   "cell_type": "markdown",
   "metadata": {},
   "source": [
    "### Comparação entre as estratégias\n",
    "Como é possível perceber pelos gráficos acima, em ambas as implementações sequenciais e paralelas, a busca exaustiva é a mais lenta, e seu desempenho piora quanto maior for o tamanho da entrada. O branch and bound é melhor que a exaustiva, uma fez que as estratégias são muito parecidas mas o bb faz menos iterações desnecessárias. A busca local tem um tempo maior para entradas pequenas, contudo, para entradas muito grandes, seu desempenho é muito melhor que todas as outras."
   ]
  },
  {
   "cell_type": "markdown",
   "metadata": {},
   "source": [
    "## Parte 3 GPU\n",
    "Para aumentar ainda mais o desempenho do programa, podemos fazer o processamento em GPUs pois, como têm um número massivo de threads, com o objetivo de aumentar o throughput, as GPUs podem ser 10X mais rápidas que as CPUs para códigos em paralelo, uma vez que enquanto um CPU muito potente pode ter uma duzia de cores, uma GPU tem centenas. Para fazer essa implementção, será usada a biblioteca Thrust da Nvidia que oferece uma interface flexível e de alto nível para programação de GPU.\n",
    "Os testes foram feitos em um Dell XPS 15 9570 com 12 threads e uma gtx 1050ti rondando Ubuntu 19.  \n",
    "O tempo de execução, em microsegundos, das versões em ambas as linguagens é contado para cada uma das entradas, usando a biblioteca chronos.\n",
    "Foram usados arquivos de entrada com os seguintes parâmetros:\n",
    "\n",
    "| n_alunos | n_proj | n_escolhas |\n",
    "|:--------:|:------:|:----------:|\n",
    "|    12    |    4   |      4     |\n",
    "|    24    |    8   |      6     |\n",
    "|    33    |    11  |      5     |\n"
   ]
  },
  {
   "cell_type": "markdown",
   "metadata": {},
   "source": [
    "### Busca Local na GPU\n",
    "   "
   ]
  },
  {
   "cell_type": "markdown",
   "metadata": {},
   "source": [
    "### Compilando e Executando os programas"
   ]
  },
  {
   "cell_type": "code",
   "execution_count": 69,
   "metadata": {},
   "outputs": [
    {
     "data": {
      "text/plain": [
       "0"
      ]
     },
     "execution_count": 69,
     "metadata": {},
     "output_type": "execute_result"
    }
   ],
   "source": [
    "try:\n",
    "    os.system('mkdir build')\n",
    "    os.system('mkdir output')\n",
    "except:\n",
    "    os.system('')\n",
    "\n",
    "os.system('cmake -B ./build')\n",
    "os.system('make -C ./build')\n",
    "\n",
    "os.system('export ITER=100000')\n",
    "\n",
    "os.system('./build/busca_local_gpu < ./projeto-validacao/entradas/in_local_12_4_4  > ./output/saida0lgpu.txt')\n",
    "os.system('./build/busca_local_gpu < ./projeto-validacao/entradas/in_heur_24_8_6 > ./output/saida1lgpu.txt')\n",
    "os.system('./build/busca_local_gpu < ./projeto-validacao/entradas/in_heur_33_11_5 > ./output/saida2lgpu.txt')\n",
    "\n",
    "os.system('./build/busca_local_par < ./entrada3 > ./output/saida0lpp.txt')\n",
    "os.system('./build/busca_local_par < ./projeto-validacao/entradas/in_heur_24_8_6 > ./output/saida1lpp.txt')\n",
    "os.system('./build/busca_local_par < ./projeto-validacao/entradas/in_heur_33_11_5 > ./output/saida2lpp.txt')"
   ]
  },
  {
   "cell_type": "code",
   "execution_count": 70,
   "metadata": {},
   "outputs": [
    {
     "data": {
      "text/html": [
       "<div>\n",
       "<style scoped>\n",
       "    .dataframe tbody tr th:only-of-type {\n",
       "        vertical-align: middle;\n",
       "    }\n",
       "\n",
       "    .dataframe tbody tr th {\n",
       "        vertical-align: top;\n",
       "    }\n",
       "\n",
       "    .dataframe thead th {\n",
       "        text-align: right;\n",
       "    }\n",
       "</style>\n",
       "<table border=\"1\" class=\"dataframe\">\n",
       "  <thead>\n",
       "    <tr style=\"text-align: right;\">\n",
       "      <th></th>\n",
       "      <th>GPU</th>\n",
       "      <th>Local</th>\n",
       "      <th>entrada</th>\n",
       "    </tr>\n",
       "  </thead>\n",
       "  <tbody>\n",
       "    <tr>\n",
       "      <th>0</th>\n",
       "      <td>645464</td>\n",
       "      <td>671576</td>\n",
       "      <td>0</td>\n",
       "    </tr>\n",
       "    <tr>\n",
       "      <th>1</th>\n",
       "      <td>659150</td>\n",
       "      <td>196735</td>\n",
       "      <td>1</td>\n",
       "    </tr>\n",
       "    <tr>\n",
       "      <th>2</th>\n",
       "      <td>701628</td>\n",
       "      <td>1361563</td>\n",
       "      <td>2</td>\n",
       "    </tr>\n",
       "  </tbody>\n",
       "</table>\n",
       "</div>"
      ],
      "text/plain": [
       "      GPU    Local entrada\n",
       "0  645464   671576       0\n",
       "1  659150   196735       1\n",
       "2  701628  1361563       2"
      ]
     },
     "execution_count": 70,
     "metadata": {},
     "output_type": "execute_result"
    }
   ],
   "source": [
    "with open('./output/saida0lgpu.txt', 'r') as f:\n",
    "    lines = f.read().splitlines()\n",
    "    s0c = lines[-1]\n",
    "with open('./output/saida1lgpu.txt', 'r') as f:\n",
    "    lines = f.read().splitlines()\n",
    "    s1c = lines[-1]\n",
    "with open('./output/saida2lgpu.txt', 'r') as f:\n",
    "    lines = f.read().splitlines()\n",
    "    s2c = lines[-1]\n",
    "    \n",
    "with open('./output/saida1lpp.txt', 'r') as f:\n",
    "    lines = f.read().splitlines()\n",
    "    s0p = lines[-1]\n",
    "with open('./output/saida0lpp.txt', 'r') as f:\n",
    "    lines = f.read().splitlines()\n",
    "    s1p = lines[-1]\n",
    "with open('./output/saida2lpp.txt', 'r') as f:\n",
    "    lines = f.read().splitlines()\n",
    "    s2p = lines[-1]\n",
    "\n",
    "    \n",
    "lg = [s0c,s1c,s2c]\n",
    "lpb = [s0p,s1p,s2p,s3p]\n",
    "entrada = [\"0\",\"1\",\"2\"]\n",
    "\n",
    "df = pd.DataFrame(list(zip(lg,lpb,entrada)), \n",
    "               columns =['GPU',\"Local\", 'entrada'])\n",
    "df[\"GPU\"] = pd.to_numeric(df[\"GPU\"])\n",
    "df[\"Local\"] = pd.to_numeric(df[\"Local\"])\n",
    "\n",
    "df"
   ]
  },
  {
   "cell_type": "code",
   "execution_count": 71,
   "metadata": {},
   "outputs": [
    {
     "data": {
      "image/png": "[encoded data removed]",
      "text/plain": [
       "<Figure size 432x288 with 1 Axes>"
      ]
     },
     "metadata": {
      "needs_background": "light"
     },
     "output_type": "display_data"
    }
   ],
   "source": [
    "ax = plt.gca()\n",
    "df.plot(kind='line',x='entrada',y='GPU',ax=ax)\n",
    "plt.title(u\"Tempo (µs) Busca Local em GPU Paralela vs Tamanho da entrada\")\n",
    "plt.show()"
   ]
  },
  {
   "cell_type": "code",
   "execution_count": 72,
   "metadata": {},
   "outputs": [
    {
     "data": {
      "image/png": "[encoded data removed]",
      "text/plain": [
       "<Figure size 432x288 with 1 Axes>"
      ]
     },
     "metadata": {
      "needs_background": "light"
     },
     "output_type": "display_data"
    }
   ],
   "source": [
    "ax = plt.gca()\n",
    "df.plot(kind='line',x='entrada',y='GPU',ax=ax)\n",
    "df.plot(kind='line',x='entrada',y='Local',ax=ax)\n",
    "\n",
    "plt.title(u\"Tempo (µs) Busca Local em em CPU e GPU Paralela vs Tamanho da entrada\")\n",
    "plt.show()"
   ]
  },
  {
   "cell_type": "markdown",
   "metadata": {},
   "source": [
    "### Conclusões Busca Local na GPU\n",
    "A busca local em GPUs tem um desempenho muito melhor que a feita em CPUs, especialmente para entradas muito grandes, isso acontece devido ao tipo de arquitetura de cada um dos componentes, como as GPUs têm muitos cores, elas podem fazer muito mais tarefas em paralelo que CPUs, assim além de terem um desempenho melhor, os tempos são mais consistentes conforme o tamanho da entrada aumenta."
   ]
  },
  {
   "cell_type": "markdown",
   "metadata": {},
   "source": [
    "## Conclusão\n",
    "Como foi possível observar nos testes realizados, a paralelização e o uso de GPUs para processamento podem reduzir drasticamente o tempo de execução de um problema, contudo, além da potência e do tipo do hardware, também é importante ressaltar a importância de empregar boas estratégias de resolução do problema, uma vez que simplesmente usar hardwares mais potentes para melhorar os resultados, além de muito custoso economicamente, a escalabilidade não é sempre uma relação linear entre poder de processamento e tempo de execução. Além disso, nem todos os problemas ou formas de resolução podem ser paralelizados ou aplicados em GPUs para aumentar seu desempenho.\n"
   ]
  }
 ],
 "metadata": {
  "kernelspec": {
   "display_name": "Python 3",
   "language": "python",
   "name": "python3"
  },
  "language_info": {
   "codemirror_mode": {
    "name": "ipython",
    "version": 2
   },
   "file_extension": ".py",
   "mimetype": "text/x-python",
   "name": "python",
   "nbconvert_exporter": "python",
   "pygments_lexer": "ipython2",
   "version": "2.7.17"
  }
 },
 "nbformat": 4,
 "nbformat_minor": 2
}
