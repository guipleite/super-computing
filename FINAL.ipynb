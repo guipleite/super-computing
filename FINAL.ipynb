{
 "cells": [
  {
   "cell_type": "markdown",
   "metadata": {},
   "source": [
    "# Projeto 1 Super Comp\n",
    "O projeto consiste em uma implementação de um algoritmo de atribuição de alunos a projetos no Projeto Final de Engenharia, onde:\n",
    "\n",
    " - Cada aluno ordena algumas opções de projetos de acordo com sua preferência do menos ao mais preferível, de modo que seu projeto favorito terá o maior índice.\n",
    " - A satisfação para uma combinação de alunos e projetos é calculada a partir da soma dos indices respectivos ao quadrado para os projetos em que cada aluno foi alocado.\n",
    " - Cada projeto receberá exatamente n alunos.\n",
    "\n",
    "O objetivo é encontrar a solução que deixe a satisfação global maior, uma vez que os alunos ficam mais felizes quando são colocados em projetos que preferem mais. Como não é possível dizer se uma solução encontrada é , necessáriamente a melhor possível, é preciso encontrar todas as soluções existentes de maneira iterativa.\n",
    "\n",
    "Para uniformizar os programas foi definida uma estrutura para as entradas\n",
    "- __n_alunos:__  Número de alunos que serão alocados.\n",
    "- __n_proj:__    Número de projetos que estão disponíveis.\n",
    "- __n_escolhas:__    En quantos projetos o aluno pode se candidatar.\n",
    "\n",
    " \n",
    "## Parte 1 algoritmos\n",
    "A intensão da primeira parte é comparar a feita implementação em Python com traduzida para C++. Os testes foram feitos em um Dell XPS 15 9570 com Ubuntu 19.     \n",
    "\n",
    "__As funções são:__\n",
    "- __escolhe_alunos:__  Entra em uma recurcao ate achar todas as possibilidades até achar a melhor.\n",
    "- __main:__     Recebe entradas, separa os dados e cria vetores com eles e os manda para o __escolhe_alunos__\n",
    "\n",
    "O código fonte é o arquivo __P1/solucao-ingenua.cpp__, que foi traduzido do __P1/backtrack.py__. O executável estão localizadas dentro da pasta P1/build.\n",
    "\n",
    "As entradas utilizadas para fazer a comparação têm as seguintes características:\n",
    "\n",
    "| n_alunos | n_proj | n_escolhas |\n",
    "|:--------:|:------:|:----------:|\n",
    "|     6    |    2   |      2     |\n",
    "|     9    |    3   |      3     |\n",
    "|    12    |    4   |      3     |\n",
    "\n",
    "O tempo de execução, em microsegundos, das versões em ambas as linguagens é contado para cada uma das entradas, usando a biblioteca time no caso do Python e a chronos no C++.\n"
   ]
  },
  {
   "cell_type": "markdown",
   "metadata": {},
   "source": [
    "### Compilando e Executando os programas"
   ]
  },
  {
   "cell_type": "code",
   "execution_count": 10,
   "metadata": {},
   "outputs": [
    {
     "data": {
      "text/plain": [
       "0"
      ]
     },
     "execution_count": 10,
     "metadata": {},
     "output_type": "execute_result"
    }
   ],
   "source": [
    "import os\n",
    "import matplotlib.pyplot as plt\n",
    "import pandas as pd\n",
    "\n",
    "try:\n",
    "    os.system('mkdir build')\n",
    "    os.system('mkdir output')\n",
    "except:\n",
    "    os.system('')\n",
    "\n",
    "os.system('cmake -B ./build')\n",
    "os.system('make -C ./build')\n",
    "\n",
    "os.system('python3 backtrack.py < ./entrada  > ./output/saida0p.txt')\n",
    "os.system('python3 backtrack.py < ./entrada1 > ./output/saida1p.txt')\n",
    "os.system('python3 backtrack.py < ./entrada2 > ./output/saida2p.txt')\n",
    "\n",
    "os.system('./build/busca_exaustiva_seq < ./entrada  > ./output/saida0c.txt')\n",
    "os.system('./build/busca_exaustiva_seq < ./entrada1 > ./output/saida1c.txt')\n",
    "os.system('./build/busca_exaustiva_seq < ./entrada2 > ./output/saida2c.txt')\n",
    "# os.system('./build/busca_exaustiva_seq < ./entrada3 > ./output/saida3c.txt')"
   ]
  },
  {
   "cell_type": "markdown",
   "metadata": {},
   "source": [
    "### Python e C++"
   ]
  },
  {
   "cell_type": "code",
   "execution_count": 11,
   "metadata": {},
   "outputs": [
    {
     "data": {
      "text/html": [
       "<div>\n",
       "<style scoped>\n",
       "    .dataframe tbody tr th:only-of-type {\n",
       "        vertical-align: middle;\n",
       "    }\n",
       "\n",
       "    .dataframe tbody tr th {\n",
       "        vertical-align: top;\n",
       "    }\n",
       "\n",
       "    .dataframe thead th {\n",
       "        text-align: right;\n",
       "    }\n",
       "</style>\n",
       "<table border=\"1\" class=\"dataframe\">\n",
       "  <thead>\n",
       "    <tr style=\"text-align: right;\">\n",
       "      <th></th>\n",
       "      <th>C++</th>\n",
       "      <th>Python</th>\n",
       "      <th>entrada</th>\n",
       "    </tr>\n",
       "  </thead>\n",
       "  <tbody>\n",
       "    <tr>\n",
       "      <th>0</th>\n",
       "      <td>25</td>\n",
       "      <td>543</td>\n",
       "      <td>0</td>\n",
       "    </tr>\n",
       "    <tr>\n",
       "      <th>1</th>\n",
       "      <td>155</td>\n",
       "      <td>40981</td>\n",
       "      <td>1</td>\n",
       "    </tr>\n",
       "    <tr>\n",
       "      <th>2</th>\n",
       "      <td>28077</td>\n",
       "      <td>897490</td>\n",
       "      <td>2</td>\n",
       "    </tr>\n",
       "  </tbody>\n",
       "</table>\n",
       "</div>"
      ],
      "text/plain": [
       "     C++  Python entrada\n",
       "0     25     543       0\n",
       "1    155   40981       1\n",
       "2  28077  897490       2"
      ]
     },
     "execution_count": 11,
     "metadata": {},
     "output_type": "execute_result"
    }
   ],
   "source": [
    "with open('./output/saida1c.txt', 'r') as f:\n",
    "    lines = f.read().splitlines()\n",
    "    s0c = lines[-1]\n",
    "with open('./output/saida0c.txt', 'r') as f:\n",
    "    lines = f.read().splitlines()\n",
    "    s1c = lines[-1]\n",
    "with open('./output/saida2c.txt', 'r') as f:\n",
    "    lines = f.read().splitlines()\n",
    "    s2c = lines[-1]\n",
    "\n",
    "with open('./output/saida1p.txt', 'r') as f:\n",
    "    lines = f.read().splitlines()\n",
    "    s0p = lines[-1]\n",
    "with open('./output/saida0p.txt', 'r') as f:\n",
    "    lines = f.read().splitlines()\n",
    "    s1p = lines[-1]\n",
    "with open('./output/saida2p.txt', 'r') as f:\n",
    "    lines = f.read().splitlines()\n",
    "    s2p = lines[-1]\n",
    "\n",
    "lc = [s0c,s1c,s2c]\n",
    "lp = [s0p,s1p,s2p]\n",
    "entrada = [\"0\",\"1\",\"2\"]\n",
    "\n",
    "df = pd.DataFrame(list(zip(lc, lp,entrada)), \n",
    "               columns =['C++', 'Python', 'entrada'])\n",
    "df[\"Python\"] = pd.to_numeric(df[\"Python\"])\n",
    "df[\"C++\"] = pd.to_numeric(df[\"C++\"])\n",
    "df"
   ]
  },
  {
   "cell_type": "code",
   "execution_count": 12,
   "metadata": {
    "scrolled": false
   },
   "outputs": [
    {
     "data": {
      "image/png": "[encoded data removed]",
      "text/plain": [
       "<Figure size 432x288 with 1 Axes>"
      ]
     },
     "metadata": {
      "needs_background": "light"
     },
     "output_type": "display_data"
    }
   ],
   "source": [
    "ax = plt.gca()\n",
    "df.plot(kind='line',x='entrada',y='Python',ax=ax)\n",
    "df.plot(kind='line',x='entrada',y='C++', color='green', ax=ax)\n",
    "plt.title(u\"Tempo (µs) Python e C++ vs Tamanho da entrada\")\n",
    "plt.show()"
   ]
  },
  {
   "cell_type": "markdown",
   "metadata": {},
   "source": [
    "### Conclusões Python e C++\n",
    "Como é possível perceber, o algoritmo faz os cálculos muito mais rápido na implementação em C++, isso se dá pois a linguagem Python é interpretada e não compilada, dessa forma, como o código interpretado é sempre mais lento que o código de máquina, pois são necessárias muito mais instruções para implementar uma instrução interpretada do que para implementar uma instrução real de máquina e não tem um impacto muito grande de otimizações, isso gera uma repercussão muito grande na performance do código, contudo, Python é uma ótima linguagem para desenvolvimento, uma vez que o código original é muito mais legível e tem cerca de metade do número de linhas de sua versão traduzida para C++. A difereça é mais aparente quando o __n_escolhas__ aumenta."
   ]
  },
  {
   "cell_type": "markdown",
   "metadata": {},
   "source": [
    "## Parte 2 Paralelismo\n",
    "\n",
    "A segunda parte consiste em usar técnicas para deixar o código mais rápido. A primeira parte foi paralelizar a busca exaustiva (__solucao-ingenua.cpp__), a segunda foi fazer a busca local e, em seguida, paralelizá-la .\n",
    "\n",
    "- __Busca Exaustiva Paralela:__ Paraleliza as recursões colocando cada uma em uma task diferente\n",
    "- __Busca Local Sequencial:__   Encontra a melhor solução de forma iterativa. A partir de uma solução inicial aleatória. Em seguida é verificado se a troca de projetos com outro aluno aumentara a satisfação ou não, caso positivo, esse processo é realizado novamente. Isso e feito cerca de 80000 vezes para garantir que o melhor resultado encontrado é o melhore resultado global. \n",
    "- __Busca Local Paralela:__     Pareleliza o loop que cria o vetor aleatorio e vetor aleatório e usa o __escolhe_alunos__ usando a veriavel __satisfacao_geral__ como shared para guardar a melhor possibilidade encontrada.\n",
    "- __Branch and Bound Sequencial:__ É semelhante ao busca local, porém, durante o processamento, se soubermos que as trocas restantes possíveis não resultarão em uma satifação maior que a melhor global, o processamento dessa combinação será parado.\n",
    "- __Branch and Bound Paralelo:__ Igual ao Branch and Bound porém paralelizado.\n",
    "\n",
    "Para a busca exaustiva sequencial código fonte é o arquivo __P1/solucao-ingenua.cpp__ gerando o executável __P1/build/busca_exaustiva_seq__ e sua versão paralelizada __P1/busca_exaustiva.cpp__ com seu respectivo executável __P1/build/busca_exaustiva_par__\n",
    "\n",
    "Para a busca local sequencial código fonte é o arquivo __P1/busca_local.cpp__ gerando o executável __P1/build/busca_local_seq__ e sua versão paralelizada __P1/busca_local_paralel.cpp__ com seu respectivo executável __P1/build/busca_local_par__\n",
    "\n",
    "Os executáveis foram compilados com a flag __-O3__ de otimização e os que tiverem paralisação foram compilados com a biblioteca OpenMP.\n",
    "\n",
    "Os testes foram feitos em um Dell XPS 15 9570 com 12 threads rondando Ubuntu 19.     \n",
    "\n",
    "Foram usados arquivos de entrada com os seguintes parâmetros:\n",
    "\n",
    "| n_alunos | n_proj | n_escolhas |\n",
    "|:--------:|:------:|:----------:|\n",
    "|     6    |    2   |      2     |\n",
    "|     9    |    3   |      3     |\n",
    "|    12    |    4   |      3     |\n",
    "|    15    |    5   |      3     |\n",
    "\n",
    "O tempo de execução, em microsegundos, é contado para cada uma das entradas, usando a biblioteca chronos."
   ]
  },
  {
   "cell_type": "markdown",
   "metadata": {},
   "source": [
    "### Compilando e Executando os programas"
   ]
  },
  {
   "cell_type": "code",
   "execution_count": 17,
   "metadata": {},
   "outputs": [
    {
     "data": {
      "text/plain": [
       "34304"
      ]
     },
     "execution_count": 17,
     "metadata": {},
     "output_type": "execute_result"
    }
   ],
   "source": [
    "try:\n",
    "    os.system('mkdir build')\n",
    "    os.system('mkdir output')\n",
    "except:\n",
    "    os.system('')\n",
    "\n",
    "os.system('cmake -B ./build')\n",
    "os.system('make -C ./build')\n",
    "\n",
    "\n",
    "os.system('./build/busca_exaustiva_seq < ./entrada  > ./output/saida0c.txt')\n",
    "os.system('./build/busca_exaustiva_seq < ./entrada1 > ./output/saida1c.txt')\n",
    "os.system('./build/busca_exaustiva_seq < ./entrada2 > ./output/saida2c.txt')\n",
    "os.system('./build/busca_exaustiva_seq < ./entrada3 > ./output/saida3c.txt')\n",
    "\n",
    "os.system('./build/busca_exaustiva_par < ./entrada  > ./output/saida0cp.txt')\n",
    "os.system('./build/busca_exaustiva_par < ./entrada1 > ./output/saida1cp.txt')\n",
    "os.system('./build/busca_exaustiva_par < ./entrada2 > ./output/saida2cp.txt')\n",
    "os.system('./build/busca_exaustiva_par < ./entrada3 > ./output/saida3cp.txt')\n",
    "\n",
    "os.system('./build/busca_local_seq < ./entrada  > ./output/saida0l.txt')\n",
    "os.system('./build/busca_local_seq < ./entrada1 > ./output/saida1l.txt')\n",
    "os.system('./build/busca_local_seq < ./entrada2 > ./output/saida2l.txt')\n",
    "os.system('./build/busca_local_seq < ./entrada3 > ./output/saida3l.txt')\n",
    "\n",
    "os.system('./build/busca_local_par < ./entrada  > ./output/saida0lp.txt')\n",
    "os.system('./build/busca_local_par < ./entrada1 > ./output/saida1lp.txt')\n",
    "os.system('./build/busca_local_par < ./entrada2 > ./output/saida2lp.txt')\n",
    "os.system('./build/busca_local_par < ./entrada3 > ./output/saida3lp.txt')"
   ]
  },
  {
   "cell_type": "markdown",
   "metadata": {},
   "source": [
    "### Busca Exaustiva Sequencial e Paralela"
   ]
  },
  {
   "cell_type": "code",
   "execution_count": 18,
   "metadata": {},
   "outputs": [
    {
     "data": {
      "text/html": [
       "<div>\n",
       "<style scoped>\n",
       "    .dataframe tbody tr th:only-of-type {\n",
       "        vertical-align: middle;\n",
       "    }\n",
       "\n",
       "    .dataframe tbody tr th {\n",
       "        vertical-align: top;\n",
       "    }\n",
       "\n",
       "    .dataframe thead th {\n",
       "        text-align: right;\n",
       "    }\n",
       "</style>\n",
       "<table border=\"1\" class=\"dataframe\">\n",
       "  <thead>\n",
       "    <tr style=\"text-align: right;\">\n",
       "      <th></th>\n",
       "      <th>Sequencial</th>\n",
       "      <th>Paralelo</th>\n",
       "      <th>entrada</th>\n",
       "    </tr>\n",
       "  </thead>\n",
       "  <tbody>\n",
       "    <tr>\n",
       "      <th>0</th>\n",
       "      <td>43</td>\n",
       "      <td>3660</td>\n",
       "      <td>0</td>\n",
       "    </tr>\n",
       "    <tr>\n",
       "      <th>1</th>\n",
       "      <td>285</td>\n",
       "      <td>5565</td>\n",
       "      <td>1</td>\n",
       "    </tr>\n",
       "    <tr>\n",
       "      <th>2</th>\n",
       "      <td>29518</td>\n",
       "      <td>10894</td>\n",
       "      <td>2</td>\n",
       "    </tr>\n",
       "    <tr>\n",
       "      <th>3</th>\n",
       "      <td>12883260</td>\n",
       "      <td>4083967</td>\n",
       "      <td>3</td>\n",
       "    </tr>\n",
       "  </tbody>\n",
       "</table>\n",
       "</div>"
      ],
      "text/plain": [
       "   Sequencial  Paralelo entrada\n",
       "0          43      3660       0\n",
       "1         285      5565       1\n",
       "2       29518     10894       2\n",
       "3    12883260   4083967       3"
      ]
     },
     "execution_count": 18,
     "metadata": {},
     "output_type": "execute_result"
    }
   ],
   "source": [
    "with open('./output/saida1c.txt', 'r') as f:\n",
    "    lines = f.read().splitlines()\n",
    "    s0c = lines[-1]\n",
    "with open('./output/saida0c.txt', 'r') as f:\n",
    "    lines = f.read().splitlines()\n",
    "    s1c = lines[-1]\n",
    "with open('./output/saida2c.txt', 'r') as f:\n",
    "    lines = f.read().splitlines()\n",
    "    s2c = lines[-1]\n",
    "with open('./output/saida3c.txt', 'r') as f:\n",
    "    lines = f.read().splitlines()\n",
    "    s3c = lines[-1]\n",
    "\n",
    "with open('./output/saida1cp.txt', 'r') as f:\n",
    "    lines = f.read().splitlines()\n",
    "    s0p = lines[-1]\n",
    "with open('./output/saida0cp.txt', 'r') as f:\n",
    "    lines = f.read().splitlines()\n",
    "    s1p = lines[-1]\n",
    "with open('./output/saida2cp.txt', 'r') as f:\n",
    "    lines = f.read().splitlines()\n",
    "    s2p = lines[-1]\n",
    "with open('./output/saida3cp.txt', 'r') as f:\n",
    "    lines = f.read().splitlines()\n",
    "    s3p = lines[-1]\n",
    "    \n",
    "lc = [s0c,s1c,s2c,s3c]\n",
    "lp = [s0p,s1p,s2p,s3p]\n",
    "entrada = [\"0\",\"1\",\"2\",\"3\"]\n",
    "\n",
    "df = pd.DataFrame(list(zip(lc, lp,entrada)), \n",
    "               columns =['Sequencial', 'Paralelo', 'entrada'])\n",
    "df[\"Paralelo\"] = pd.to_numeric(df[\"Paralelo\"])\n",
    "df[\"Sequencial\"] = pd.to_numeric(df[\"Sequencial\"])\n",
    "df"
   ]
  },
  {
   "cell_type": "code",
   "execution_count": 19,
   "metadata": {},
   "outputs": [
    {
     "data": {
      "image/png": "[encoded data removed]",
      "text/plain": [
       "<Figure size 432x288 with 1 Axes>"
      ]
     },
     "metadata": {
      "needs_background": "light"
     },
     "output_type": "display_data"
    }
   ],
   "source": [
    "ax = plt.gca()\n",
    "df.plot(kind='line',x='entrada',y='Paralelo',ax=ax)\n",
    "df.plot(kind='line',x='entrada',y='Sequencial', color='green', ax=ax)\n",
    "plt.title(u\"Tempo (µs) Busca Exaustiva Sequencial e Paralela vs Tamanho da entrada\")\n",
    "plt.show()"
   ]
  },
  {
   "cell_type": "markdown",
   "metadata": {},
   "source": [
    "### Conclusões: Busca Exaustiva \n",
    "O gráfico e tabela acima deixam muito aparente o quanto a paralisação deixa o programa mais rápido com entradas maiores, onde a versão paralelizada teve um tempo de execução de aproximadamente 10% da versão original. Isso ocorre pois cada task criada pode rodar de forma paralela âs outras, e quanto mais threads o processador tiver, mais tasks podem ser executadas em paralelo. Assim apesar de o tempo de ambas as versões crescer de forma exponencial, o tempo da sequencial cresce muito mais conforme o tamanho da entrada. Contudo, como o custo de criação de tasks é muito grande, se forem criadas muitas delas o desempenho do programa pode sofrer consideravelmente, assim o tempo, para entradas muito pequenas, é maior no paralelo do que no sequencial"
   ]
  },
  {
   "cell_type": "markdown",
   "metadata": {},
   "source": [
    "### Busca Local Sequencial e Paralela"
   ]
  },
  {
   "cell_type": "code",
   "execution_count": 20,
   "metadata": {},
   "outputs": [
    {
     "ename": "IndexError",
     "evalue": "list index out of range",
     "output_type": "error",
     "traceback": [
      "\u001b[0;31m---------------------------------------------------------------------------\u001b[0m",
      "\u001b[0;31mIndexError\u001b[0m                                Traceback (most recent call last)",
      "\u001b[0;32m<ipython-input-20-4d1f32c27e23>\u001b[0m in \u001b[0;36m<module>\u001b[0;34m\u001b[0m\n\u001b[1;32m     14\u001b[0m \u001b[0;32mwith\u001b[0m \u001b[0mopen\u001b[0m\u001b[0;34m(\u001b[0m\u001b[0;34m'./output/saida1lp.txt'\u001b[0m\u001b[0;34m,\u001b[0m \u001b[0;34m'r'\u001b[0m\u001b[0;34m)\u001b[0m \u001b[0;32mas\u001b[0m \u001b[0mf\u001b[0m\u001b[0;34m:\u001b[0m\u001b[0;34m\u001b[0m\u001b[0;34m\u001b[0m\u001b[0m\n\u001b[1;32m     15\u001b[0m     \u001b[0mlines\u001b[0m \u001b[0;34m=\u001b[0m \u001b[0mf\u001b[0m\u001b[0;34m.\u001b[0m\u001b[0mread\u001b[0m\u001b[0;34m(\u001b[0m\u001b[0;34m)\u001b[0m\u001b[0;34m.\u001b[0m\u001b[0msplitlines\u001b[0m\u001b[0;34m(\u001b[0m\u001b[0;34m)\u001b[0m\u001b[0;34m\u001b[0m\u001b[0;34m\u001b[0m\u001b[0m\n\u001b[0;32m---> 16\u001b[0;31m     \u001b[0ms0p\u001b[0m \u001b[0;34m=\u001b[0m \u001b[0mlines\u001b[0m\u001b[0;34m[\u001b[0m\u001b[0;34m-\u001b[0m\u001b[0;36m1\u001b[0m\u001b[0;34m]\u001b[0m\u001b[0;34m\u001b[0m\u001b[0;34m\u001b[0m\u001b[0m\n\u001b[0m\u001b[1;32m     17\u001b[0m \u001b[0;32mwith\u001b[0m \u001b[0mopen\u001b[0m\u001b[0;34m(\u001b[0m\u001b[0;34m'./output/saida0lp.txt'\u001b[0m\u001b[0;34m,\u001b[0m \u001b[0;34m'r'\u001b[0m\u001b[0;34m)\u001b[0m \u001b[0;32mas\u001b[0m \u001b[0mf\u001b[0m\u001b[0;34m:\u001b[0m\u001b[0;34m\u001b[0m\u001b[0;34m\u001b[0m\u001b[0m\n\u001b[1;32m     18\u001b[0m     \u001b[0mlines\u001b[0m \u001b[0;34m=\u001b[0m \u001b[0mf\u001b[0m\u001b[0;34m.\u001b[0m\u001b[0mread\u001b[0m\u001b[0;34m(\u001b[0m\u001b[0;34m)\u001b[0m\u001b[0;34m.\u001b[0m\u001b[0msplitlines\u001b[0m\u001b[0;34m(\u001b[0m\u001b[0;34m)\u001b[0m\u001b[0;34m\u001b[0m\u001b[0;34m\u001b[0m\u001b[0m\n",
      "\u001b[0;31mIndexError\u001b[0m: list index out of range"
     ]
    }
   ],
   "source": [
    "with open('./output/saida1l.txt', 'r') as f:\n",
    "    lines = f.read().splitlines()\n",
    "    s0c = lines[-1]\n",
    "with open('./output/saida0l.txt', 'r') as f:\n",
    "    lines = f.read().splitlines()\n",
    "    s1c = lines[-1]\n",
    "with open('./output/saida2l.txt', 'r') as f:\n",
    "    lines = f.read().splitlines()\n",
    "    s2c = lines[-1]\n",
    "with open('./output/saida3l.txt', 'r') as f:\n",
    "    lines = f.read().splitlines()\n",
    "    s3c = lines[-1]\n",
    "\n",
    "with open('./output/saida1lp.txt', 'r') as f:\n",
    "    lines = f.read().splitlines()\n",
    "    s0p = lines[-1]\n",
    "with open('./output/saida0lp.txt', 'r') as f:\n",
    "    lines = f.read().splitlines()\n",
    "    s1p = lines[-1]\n",
    "with open('./output/saida2lp.txt', 'r') as f:\n",
    "    lines = f.read().splitlines()\n",
    "    s2p = lines[-1]\n",
    "with open('./output/saida3lp.txt', 'r') as f:\n",
    "    lines = f.read().splitlines()\n",
    "    s3p = lines[-1]\n",
    "    \n",
    "lc = [s0c,s1c,s2c,s3c]\n",
    "lp = [s0p,s1p,s2p,s3p]\n",
    "entrada = [\"0\",\"1\",\"2\",\"3\"]\n",
    "\n",
    "df = pd.DataFrame(list(zip(lc, lp,entrada)), \n",
    "               columns =['Sequencial', 'Paralelo', 'entrada'])\n",
    "df[\"Paralelo\"] = pd.to_numeric(df[\"Paralelo\"])\n",
    "df[\"Sequencial\"] = pd.to_numeric(df[\"Sequencial\"])\n",
    "df"
   ]
  },
  {
   "cell_type": "code",
   "execution_count": null,
   "metadata": {},
   "outputs": [],
   "source": [
    "ax = plt.gca()\n",
    "df.plot(kind='line',x='entrada',y='Paralelo',ax=ax)\n",
    "df.plot(kind='line',x='entrada',y='Sequencial', color='green', ax=ax)\n",
    "plt.title(u\"Tempo (µs) Busca Local Sequencial e Paralela vs Tamanho da entrada\")\n",
    "plt.show()"
   ]
  },
  {
   "cell_type": "markdown",
   "metadata": {},
   "source": [
    "### Conclusões Busca Local \n",
    "Como o gráfico acima mostra bem, existe uma diferença notável nos tempos de execução e aponta que essa diferença tende a aumentar conforme o tamanho da entrada. Ela ocorre pois os loops que criam o vetor aleatório e mandam ele para o __escolhe_aluno__ assim gerando a melhor distribuição para aquele vetor inicial estão em paralelo, rodando em diferentes threads ao mesmo tempo e compartilhando a variável __satisfacao_geral__ para decidir qual a melhor distribuição de escolhas. "
   ]
  },
  {
   "cell_type": "markdown",
   "metadata": {},
   "source": [
    "### Branch and Bound Sequencial e Paralelo\n"
   ]
  },
  {
   "cell_type": "code",
   "execution_count": null,
   "metadata": {},
   "outputs": [],
   "source": []
  },
  {
   "cell_type": "code",
   "execution_count": null,
   "metadata": {},
   "outputs": [],
   "source": []
  },
  {
   "cell_type": "markdown",
   "metadata": {},
   "source": [
    "### Conclusões: Branch and Bound Sequencial e Paralelo\n",
    "\n"
   ]
  },
  {
   "cell_type": "markdown",
   "metadata": {},
   "source": [
    "## Parte 3 GPU\n",
    "Para aumentar ainda mais o desempenho do programa, podemos fazer o processamento em GPUs pois, como têm um número massivo de threads, com o objetivo de aumentar o throughput, as GPUs podem ser 10X mais rápidas que as CPUs para códigos em paralelo, uma vez que enquanto um CPU muito potente pode ter uma duzia de cores, uma GPU tem centenas. Para fazer essa implementção, será usada a biblioteca Thrust da Nvidia que oferece uma interface flexível e de alto nível para programação de GPU.\n",
    "Os testes foram feitos em um Dell XPS 15 9570 com 12 threads e uma gtx 1050ti rondando Ubuntu 19.  \n",
    "O tempo de execução, em microsegundos, das versões em ambas as linguagens é contado para cada uma das entradas, usando a biblioteca chronos.\n",
    "Foram usados arquivos de entrada com os seguintes parâmetros:\n",
    "\n",
    "| n_alunos | n_proj | n_escolhas |\n",
    "|:--------:|:------:|:----------:|\n",
    "|     6    |    2   |      2     |\n",
    "|     9    |    3   |      3     |\n",
    "|    12    |    4   |      3     |\n",
    "|    15    |    5   |      3     |"
   ]
  },
  {
   "cell_type": "markdown",
   "metadata": {},
   "source": [
    "### Busca Local na GPU\n",
    "   "
   ]
  },
  {
   "cell_type": "markdown",
   "metadata": {},
   "source": [
    "### Compilando e Executando os programas"
   ]
  },
  {
   "cell_type": "code",
   "execution_count": null,
   "metadata": {},
   "outputs": [],
   "source": []
  },
  {
   "cell_type": "code",
   "execution_count": null,
   "metadata": {},
   "outputs": [],
   "source": []
  },
  {
   "cell_type": "code",
   "execution_count": null,
   "metadata": {},
   "outputs": [],
   "source": []
  },
  {
   "cell_type": "markdown",
   "metadata": {},
   "source": [
    "### Conclusões Busca Local na GPU\n",
    "\n"
   ]
  },
  {
   "cell_type": "markdown",
   "metadata": {},
   "source": [
    "## Conclusão\n",
    "Como foi possível observar nos testes realizados, a paralelização e o uso de GPUs para processamento podem reduzir drasticamente o tempo de execução de um problema, contudo, além da potência e do tipo do hardware, também é importante ressaltar a importância de empregar boas estratégias de resolução do problema, uma vez que simplesmente usar hardwares mais potentes para melhorar os resultados, além de muito custoso economicamente, a escalabilidade não é sempre uma relação linear entre poder de processamento e tempo de execução. Além disso, nem todos os problemas ou formas de resolução podem ser paralelizadas ou aplicadas em GPUs para aumentar seu desempenho.\n"
   ]
  }
 ],
 "metadata": {
  "kernelspec": {
   "display_name": "Python 3",
   "language": "python",
   "name": "python3"
  },
  "language_info": {
   "codemirror_mode": {
    "name": "ipython",
    "version": 3
   },
   "file_extension": ".py",
   "mimetype": "text/x-python",
   "name": "python",
   "nbconvert_exporter": "python",
   "pygments_lexer": "ipython3",
   "version": "3.6.9"
  }
 },
 "nbformat": 4,
 "nbformat_minor": 2
}
